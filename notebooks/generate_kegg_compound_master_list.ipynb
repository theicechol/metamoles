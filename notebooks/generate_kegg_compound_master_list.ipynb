{
 "cells": [
  {
   "cell_type": "markdown",
   "metadata": {},
   "source": [
    "The purpose of this notebook is to parse all of the PubChem numbers from the kegg_compound master dataset and write them to a csv file so that our pubchem_client tool can pull all the corresponding SMILES strings from PubChem"
   ]
  },
  {
   "cell_type": "code",
   "execution_count": 1,
   "metadata": {},
   "outputs": [],
   "source": [
    "# imports\n",
    "\n",
    "import pandas as pd\n",
    "from core import *"
   ]
  },
  {
   "cell_type": "code",
   "execution_count": 2,
   "metadata": {},
   "outputs": [],
   "source": [
    "# read kegg compound dataset into dataframe\n",
    "\n",
    "compound_df = create_kegg_df('../datasets/KEGG_compound_db_entries.gz', 'compound')"
   ]
  },
  {
   "cell_type": "code",
   "execution_count": 3,
   "metadata": {},
   "outputs": [],
   "source": [
    "# parse pubchem id from each row in compound dataframe\n",
    "\n",
    "compound_df['pubchem_id'] = [parse_pubchem_ids(row['dblinks']) for _, row in compound_df.iterrows()]"
   ]
  },
  {
   "cell_type": "code",
   "execution_count": 4,
   "metadata": {},
   "outputs": [],
   "source": [
    "# function to check lengths of pubchem ids in dataframe\n",
    "\n",
    "def check_length_dist(dataframe, field):\n",
    "    id_lengths = [len(data) for data in dataframe[field]]\n",
    "\n",
    "    values, counts = np.unique(id_lengths, return_counts=True)\n",
    "\n",
    "    for i in range(len(values)):\n",
    "        print(\"{}: {}\".format(values[i], counts[i]))\n",
    "\n",
    "    print(\"\\ntotal numbers: {}\\ndataframe shape: {}\".format(counts.sum(), dataframe.shape))"
   ]
  },
  {
   "cell_type": "code",
   "execution_count": 5,
   "metadata": {},
   "outputs": [
    {
     "name": "stdout",
     "output_type": "stream",
     "text": [
      "0: 197\n",
      "4: 5835\n",
      "5: 4198\n",
      "6: 813\n",
      "7: 141\n",
      "8: 3582\n",
      "9: 3739\n",
      "\n",
      "total numbers: 18505\n",
      "dataframe shape: (18505, 9)\n"
     ]
    }
   ],
   "source": [
    "# check lengths of pubchem ids in dataframe\n",
    "\n",
    "check_length_dist(compound_df, 'pubchem_id')"
   ]
  },
  {
   "cell_type": "code",
   "execution_count": 6,
   "metadata": {},
   "outputs": [
    {
     "data": {
      "text/plain": [
       "(18308, 9)"
      ]
     },
     "execution_count": 6,
     "metadata": {},
     "output_type": "execute_result"
    }
   ],
   "source": [
    "# remove zero rows\n",
    "\n",
    "compound_df = compound_df[compound_df['pubchem_id'] != '']\n",
    "compound_df.shape"
   ]
  },
  {
   "cell_type": "code",
   "execution_count": 13,
   "metadata": {},
   "outputs": [
    {
     "data": {
      "text/plain": [
       "1369"
      ]
     },
     "execution_count": 13,
     "metadata": {},
     "output_type": "execute_result"
    }
   ],
   "source": [
    "prom_com_df = pd.read_csv('promiscuous_products.csv')\n",
    "prom_coms = prom_com_df['product'].unique().tolist()\n",
    "len(prom_coms)"
   ]
  },
  {
   "cell_type": "code",
   "execution_count": 16,
   "metadata": {},
   "outputs": [
    {
     "name": "stdout",
     "output_type": "stream",
     "text": [
      "(1299, 9)\n"
     ]
    },
    {
     "data": {
      "text/html": [
       "<div>\n",
       "<style scoped>\n",
       "    .dataframe tbody tr th:only-of-type {\n",
       "        vertical-align: middle;\n",
       "    }\n",
       "\n",
       "    .dataframe tbody tr th {\n",
       "        vertical-align: top;\n",
       "    }\n",
       "\n",
       "    .dataframe thead th {\n",
       "        text-align: right;\n",
       "    }\n",
       "</style>\n",
       "<table border=\"1\" class=\"dataframe\">\n",
       "  <thead>\n",
       "    <tr style=\"text-align: right;\">\n",
       "      <th></th>\n",
       "      <th>dblinks</th>\n",
       "      <th>entry</th>\n",
       "      <th>enzyme</th>\n",
       "      <th>formula</th>\n",
       "      <th>mass</th>\n",
       "      <th>name</th>\n",
       "      <th>pathway</th>\n",
       "      <th>structures</th>\n",
       "      <th>pubchem_id</th>\n",
       "    </tr>\n",
       "  </thead>\n",
       "  <tbody>\n",
       "    <tr>\n",
       "      <th>21</th>\n",
       "      <td>[(CAS, [127-17-3]), (PubChem, [3324]), (ChEBI,...</td>\n",
       "      <td>C00022</td>\n",
       "      <td>[1.1.1.27, 1.1.1.28, 1.1.1.38, 1.1.1.39, 1.1.1...</td>\n",
       "      <td>C3H4O3</td>\n",
       "      <td></td>\n",
       "      <td>[Pyruvate, Pyruvic acid, 2-Oxopropanoate, 2-Ox...</td>\n",
       "      <td>[(PATH, map00010, Glycolysis / Gluconeogenesis...</td>\n",
       "      <td>[]</td>\n",
       "      <td>3324</td>\n",
       "    </tr>\n",
       "    <tr>\n",
       "      <th>23</th>\n",
       "      <td>[(CAS, [72-89-9]), (PubChem, [3326]), (ChEBI, ...</td>\n",
       "      <td>C00024</td>\n",
       "      <td>[1.1.1.-, 1.2.1.10, 1.2.1.18, 1.2.1.27, 1.2.1....</td>\n",
       "      <td>C23H38N7O17P3S</td>\n",
       "      <td></td>\n",
       "      <td>[Acetyl-CoA, Acetyl coenzyme A]</td>\n",
       "      <td>[(PATH, map00010, Glycolysis / Gluconeogenesis...</td>\n",
       "      <td>[]</td>\n",
       "      <td>3326</td>\n",
       "    </tr>\n",
       "    <tr>\n",
       "      <th>24</th>\n",
       "      <td>[(CAS, [56-86-0]), (PubChem, [3327]), (ChEBI, ...</td>\n",
       "      <td>C00025</td>\n",
       "      <td>[1.2.1.88, 1.4.1.2, 1.4.1.3, 1.4.1.4, 1.4.1.13...</td>\n",
       "      <td>C5H9NO4</td>\n",
       "      <td></td>\n",
       "      <td>[L-Glutamate, L-Glutamic acid, L-Glutaminic ac...</td>\n",
       "      <td>[(PATH, map00220, Arginine biosynthesis), (PAT...</td>\n",
       "      <td>[]</td>\n",
       "      <td>3327</td>\n",
       "    </tr>\n",
       "    <tr>\n",
       "      <th>25</th>\n",
       "      <td>[(CAS, [328-50-7]), (PubChem, [3328]), (ChEBI,...</td>\n",
       "      <td>C00026</td>\n",
       "      <td>[1.1.1.41, 1.1.1.42, 1.1.1.95, 1.1.1.286, 1.1....</td>\n",
       "      <td>C5H6O5</td>\n",
       "      <td></td>\n",
       "      <td>[2-Oxoglutarate, Oxoglutaric acid, 2-Ketogluta...</td>\n",
       "      <td>[(PATH, map00020, Citrate cycle (TCA cycle)), ...</td>\n",
       "      <td>[]</td>\n",
       "      <td>3328</td>\n",
       "    </tr>\n",
       "    <tr>\n",
       "      <th>28</th>\n",
       "      <td>[(CAS, [133-89-1]), (PubChem, [3331]), (ChEBI,...</td>\n",
       "      <td>C00029</td>\n",
       "      <td>[1.1.1.22, 1.1.1.-, 2.4.1.11, 2.4.1.12, 2.4.1....</td>\n",
       "      <td>C15H24N2O17P2</td>\n",
       "      <td></td>\n",
       "      <td>[UDP-glucose, UDPglucose, UDP-D-glucose, Uridi...</td>\n",
       "      <td>[(PATH, map00040, Pentose and glucuronate inte...</td>\n",
       "      <td>[]</td>\n",
       "      <td>3331</td>\n",
       "    </tr>\n",
       "  </tbody>\n",
       "</table>\n",
       "</div>"
      ],
      "text/plain": [
       "                                              dblinks   entry  \\\n",
       "21  [(CAS, [127-17-3]), (PubChem, [3324]), (ChEBI,...  C00022   \n",
       "23  [(CAS, [72-89-9]), (PubChem, [3326]), (ChEBI, ...  C00024   \n",
       "24  [(CAS, [56-86-0]), (PubChem, [3327]), (ChEBI, ...  C00025   \n",
       "25  [(CAS, [328-50-7]), (PubChem, [3328]), (ChEBI,...  C00026   \n",
       "28  [(CAS, [133-89-1]), (PubChem, [3331]), (ChEBI,...  C00029   \n",
       "\n",
       "                                               enzyme         formula mass  \\\n",
       "21  [1.1.1.27, 1.1.1.28, 1.1.1.38, 1.1.1.39, 1.1.1...          C3H4O3        \n",
       "23  [1.1.1.-, 1.2.1.10, 1.2.1.18, 1.2.1.27, 1.2.1....  C23H38N7O17P3S        \n",
       "24  [1.2.1.88, 1.4.1.2, 1.4.1.3, 1.4.1.4, 1.4.1.13...         C5H9NO4        \n",
       "25  [1.1.1.41, 1.1.1.42, 1.1.1.95, 1.1.1.286, 1.1....          C5H6O5        \n",
       "28  [1.1.1.22, 1.1.1.-, 2.4.1.11, 2.4.1.12, 2.4.1....   C15H24N2O17P2        \n",
       "\n",
       "                                                 name  \\\n",
       "21  [Pyruvate, Pyruvic acid, 2-Oxopropanoate, 2-Ox...   \n",
       "23                    [Acetyl-CoA, Acetyl coenzyme A]   \n",
       "24  [L-Glutamate, L-Glutamic acid, L-Glutaminic ac...   \n",
       "25  [2-Oxoglutarate, Oxoglutaric acid, 2-Ketogluta...   \n",
       "28  [UDP-glucose, UDPglucose, UDP-D-glucose, Uridi...   \n",
       "\n",
       "                                              pathway structures pubchem_id  \n",
       "21  [(PATH, map00010, Glycolysis / Gluconeogenesis...         []       3324  \n",
       "23  [(PATH, map00010, Glycolysis / Gluconeogenesis...         []       3326  \n",
       "24  [(PATH, map00220, Arginine biosynthesis), (PAT...         []       3327  \n",
       "25  [(PATH, map00020, Citrate cycle (TCA cycle)), ...         []       3328  \n",
       "28  [(PATH, map00040, Pentose and glucuronate inte...         []       3331  "
      ]
     },
     "execution_count": 16,
     "metadata": {},
     "output_type": "execute_result"
    }
   ],
   "source": [
    "\n",
    "bool_mask = [True if row['entry'] in prom_coms else False for _, row in compound_df.iterrows()]\n",
    "selected_compound_df = compound_df[bool_mask]\n",
    "print(selected_compound_df.shape)\n",
    "selected_compound_df.head()"
   ]
  },
  {
   "cell_type": "code",
   "execution_count": 14,
   "metadata": {},
   "outputs": [
    {
     "data": {
      "text/html": [
       "<div>\n",
       "<style scoped>\n",
       "    .dataframe tbody tr th:only-of-type {\n",
       "        vertical-align: middle;\n",
       "    }\n",
       "\n",
       "    .dataframe tbody tr th {\n",
       "        vertical-align: top;\n",
       "    }\n",
       "\n",
       "    .dataframe thead th {\n",
       "        text-align: right;\n",
       "    }\n",
       "</style>\n",
       "<table border=\"1\" class=\"dataframe\">\n",
       "  <thead>\n",
       "    <tr style=\"text-align: right;\">\n",
       "      <th></th>\n",
       "      <th>dblinks</th>\n",
       "      <th>entry</th>\n",
       "      <th>enzyme</th>\n",
       "      <th>formula</th>\n",
       "      <th>mass</th>\n",
       "      <th>name</th>\n",
       "      <th>pathway</th>\n",
       "      <th>structures</th>\n",
       "      <th>pubchem_id</th>\n",
       "    </tr>\n",
       "  </thead>\n",
       "  <tbody>\n",
       "    <tr>\n",
       "      <th>0</th>\n",
       "      <td>[(CAS, [7732-18-5]), (PubChem, [3303]), (ChEBI...</td>\n",
       "      <td>C00001</td>\n",
       "      <td>[1.1.1.1, 1.1.1.22, 1.1.1.23, 1.1.1.115, 1.1.1...</td>\n",
       "      <td>H2O</td>\n",
       "      <td></td>\n",
       "      <td>[H2O, Water]</td>\n",
       "      <td>[(PATH, map00190, Oxidative phosphorylation), ...</td>\n",
       "      <td>[]</td>\n",
       "      <td>3303</td>\n",
       "    </tr>\n",
       "    <tr>\n",
       "      <th>1</th>\n",
       "      <td>[(CAS, [56-65-5]), (PubChem, [3304]), (ChEBI, ...</td>\n",
       "      <td>C00002</td>\n",
       "      <td>[1.1.98.6, 1.2.1.30, 1.2.1.95, 1.2.1.101, 1.3....</td>\n",
       "      <td>C10H16N5O13P3</td>\n",
       "      <td></td>\n",
       "      <td>[ATP, Adenosine 5'-triphosphate]</td>\n",
       "      <td>[(PATH, map00190, Oxidative phosphorylation), ...</td>\n",
       "      <td>[]</td>\n",
       "      <td>3304</td>\n",
       "    </tr>\n",
       "    <tr>\n",
       "      <th>2</th>\n",
       "      <td>[(CAS, [53-84-9]), (PubChem, [3305]), (ChEBI, ...</td>\n",
       "      <td>C00003</td>\n",
       "      <td>[1.1.1.1, 1.1.1.3, 1.1.1.4, 1.1.1.6, 1.1.1.7, ...</td>\n",
       "      <td>C21H28N7O14P2</td>\n",
       "      <td></td>\n",
       "      <td>[NAD+, NAD, Nicotinamide adenine dinucleotide,...</td>\n",
       "      <td>[(PATH, map00190, Oxidative phosphorylation), ...</td>\n",
       "      <td>[]</td>\n",
       "      <td>3305</td>\n",
       "    </tr>\n",
       "    <tr>\n",
       "      <th>3</th>\n",
       "      <td>[(CAS, [58-68-4]), (PubChem, [3306]), (ChEBI, ...</td>\n",
       "      <td>C00004</td>\n",
       "      <td>[1.1.1.1, 1.1.1.3, 1.1.1.4, 1.1.1.6, 1.1.1.7, ...</td>\n",
       "      <td>C21H29N7O14P2</td>\n",
       "      <td></td>\n",
       "      <td>[NADH, DPNH, Reduced nicotinamide adenine dinu...</td>\n",
       "      <td>[(PATH, map00190, Oxidative phosphorylation), ...</td>\n",
       "      <td>[]</td>\n",
       "      <td>3306</td>\n",
       "    </tr>\n",
       "    <tr>\n",
       "      <th>4</th>\n",
       "      <td>[(CAS, [2646-71-1]), (PubChem, [3307]), (ChEBI...</td>\n",
       "      <td>C00005</td>\n",
       "      <td>[1.1.1.1, 1.1.1.2, 1.1.1.3, 1.1.1.10, 1.1.1.19...</td>\n",
       "      <td>C21H30N7O17P3</td>\n",
       "      <td></td>\n",
       "      <td>[NADPH, TPNH, Reduced nicotinamide adenine din...</td>\n",
       "      <td>[(PATH, map00195, Photosynthesis), (PATH, map0...</td>\n",
       "      <td>[]</td>\n",
       "      <td>3307</td>\n",
       "    </tr>\n",
       "  </tbody>\n",
       "</table>\n",
       "</div>"
      ],
      "text/plain": [
       "                                             dblinks   entry  \\\n",
       "0  [(CAS, [7732-18-5]), (PubChem, [3303]), (ChEBI...  C00001   \n",
       "1  [(CAS, [56-65-5]), (PubChem, [3304]), (ChEBI, ...  C00002   \n",
       "2  [(CAS, [53-84-9]), (PubChem, [3305]), (ChEBI, ...  C00003   \n",
       "3  [(CAS, [58-68-4]), (PubChem, [3306]), (ChEBI, ...  C00004   \n",
       "4  [(CAS, [2646-71-1]), (PubChem, [3307]), (ChEBI...  C00005   \n",
       "\n",
       "                                              enzyme        formula mass  \\\n",
       "0  [1.1.1.1, 1.1.1.22, 1.1.1.23, 1.1.1.115, 1.1.1...            H2O        \n",
       "1  [1.1.98.6, 1.2.1.30, 1.2.1.95, 1.2.1.101, 1.3....  C10H16N5O13P3        \n",
       "2  [1.1.1.1, 1.1.1.3, 1.1.1.4, 1.1.1.6, 1.1.1.7, ...  C21H28N7O14P2        \n",
       "3  [1.1.1.1, 1.1.1.3, 1.1.1.4, 1.1.1.6, 1.1.1.7, ...  C21H29N7O14P2        \n",
       "4  [1.1.1.1, 1.1.1.2, 1.1.1.3, 1.1.1.10, 1.1.1.19...  C21H30N7O17P3        \n",
       "\n",
       "                                                name  \\\n",
       "0                                       [H2O, Water]   \n",
       "1                   [ATP, Adenosine 5'-triphosphate]   \n",
       "2  [NAD+, NAD, Nicotinamide adenine dinucleotide,...   \n",
       "3  [NADH, DPNH, Reduced nicotinamide adenine dinu...   \n",
       "4  [NADPH, TPNH, Reduced nicotinamide adenine din...   \n",
       "\n",
       "                                             pathway structures pubchem_id  \n",
       "0  [(PATH, map00190, Oxidative phosphorylation), ...         []       3303  \n",
       "1  [(PATH, map00190, Oxidative phosphorylation), ...         []       3304  \n",
       "2  [(PATH, map00190, Oxidative phosphorylation), ...         []       3305  \n",
       "3  [(PATH, map00190, Oxidative phosphorylation), ...         []       3306  \n",
       "4  [(PATH, map00195, Photosynthesis), (PATH, map0...         []       3307  "
      ]
     },
     "execution_count": 14,
     "metadata": {},
     "output_type": "execute_result"
    }
   ],
   "source": [
    "compound_df.head()"
   ]
  },
  {
   "cell_type": "code",
   "execution_count": null,
   "metadata": {},
   "outputs": [],
   "source": []
  },
  {
   "cell_type": "code",
   "execution_count": 7,
   "metadata": {},
   "outputs": [],
   "source": [
    "# write to csv file\n",
    "\n",
    "compound_df.to_csv('../datasets/KEGG_compounds_no_SMILES.csv')"
   ]
  },
  {
   "cell_type": "code",
   "execution_count": 31,
   "metadata": {},
   "outputs": [
    {
     "name": "stdout",
     "output_type": "stream",
     "text": [
      "KEGG_compound.csv\r\n",
      "KEGG_compound_db_entries.csv\r\n",
      "KEGG_compound_db_entries.gz\r\n",
      "KEGG_enzymes_all_data.gz\r\n",
      "KEGG_reaction_db_entries.tar.gz\r\n",
      "cleaned_promiscous_enzyme_df.csv\r\n",
      "cofactor_list.csv\r\n",
      "df_cleaned_kegg_with_smiles.csv\r\n",
      "playground_df_cleaned_kegg_with_smiles.csv\r\n",
      "promiscuous_cleaned_KEGGtoPubChem.csv\r\n",
      "promiscuous_enzyme.csv\r\n",
      "promiscuous_enzyme_list.xlsx\r\n",
      "pubchem_ids_promiscuous_enzyme_products.csv\r\n",
      "substrate_product_combined_promiscuous.csv\r\n",
      "vectorized_enzyme.csv\r\n"
     ]
    }
   ],
   "source": [
    "!ls ../datasets/"
   ]
  },
  {
   "cell_type": "code",
   "execution_count": null,
   "metadata": {},
   "outputs": [],
   "source": []
  }
 ],
 "metadata": {
  "kernelspec": {
   "display_name": "Python 3",
   "language": "python",
   "name": "python3"
  },
  "language_info": {
   "codemirror_mode": {
    "name": "ipython",
    "version": 3
   },
   "file_extension": ".py",
   "mimetype": "text/x-python",
   "name": "python",
   "nbconvert_exporter": "python",
   "pygments_lexer": "ipython3",
   "version": "3.7.1"
  }
 },
 "nbformat": 4,
 "nbformat_minor": 2
}
