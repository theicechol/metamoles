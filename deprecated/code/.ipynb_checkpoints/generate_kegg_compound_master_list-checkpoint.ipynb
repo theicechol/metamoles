{
 "cells": [
  {
   "cell_type": "markdown",
   "metadata": {},
   "source": [
    "The purpose of this notebook is to parse all of the PubChem numbers from the kegg_compound master dataset and write them to a csv file so that our pubchem_client tool can pull all the corresponding SMILES strings from PubChem"
   ]
  },
  {
   "cell_type": "code",
   "execution_count": 1,
   "metadata": {},
   "outputs": [],
   "source": [
    "# imports\n",
    "\n",
    "import pandas as pd\n",
    "from core import *"
   ]
  },
  {
   "cell_type": "code",
   "execution_count": 23,
   "metadata": {},
   "outputs": [],
   "source": [
    "# read kegg compound dataset into dataframe\n",
    "\n",
    "compound_df = create_kegg_df('../datasets/KEGG_compound_db_entries.gz', 'compound')"
   ]
  },
  {
   "cell_type": "code",
   "execution_count": 24,
   "metadata": {},
   "outputs": [],
   "source": [
    "# parse pubchem id from each row in compound dataframe\n",
    "\n",
    "compound_df['pubchem_id'] = [parse_pubchem_ids(row['dblinks']) for _, row in compound_df.iterrows()]"
   ]
  },
  {
   "cell_type": "code",
   "execution_count": 25,
   "metadata": {},
   "outputs": [],
   "source": [
    "# function to check lengths of pubchem ids in dataframe\n",
    "\n",
    "def check_length_dist(dataframe, field):\n",
    "    id_lengths = [len(data) for data in dataframe[field]]\n",
    "\n",
    "    values, counts = np.unique(id_lengths, return_counts=True)\n",
    "\n",
    "    for i in range(len(values)):\n",
    "        print(\"{}: {}\".format(values[i], counts[i]))\n",
    "\n",
    "    print(\"\\ntotal numbers: {}\\ndataframe shape: {}\".format(counts.sum(), dataframe.shape))"
   ]
  },
  {
   "cell_type": "code",
   "execution_count": 26,
   "metadata": {},
   "outputs": [
    {
     "name": "stdout",
     "output_type": "stream",
     "text": [
      "0: 197\n",
      "4: 5835\n",
      "5: 4198\n",
      "6: 813\n",
      "7: 141\n",
      "8: 3582\n",
      "9: 3739\n",
      "\n",
      "total numbers: 18505\n",
      "dataframe shape: (18505, 9)\n"
     ]
    }
   ],
   "source": [
    "# check lengths of pubchem ids in dataframe\n",
    "\n",
    "check_length_dist(compound_df, 'pubchem_id')"
   ]
  },
  {
   "cell_type": "code",
   "execution_count": 29,
   "metadata": {},
   "outputs": [
    {
     "data": {
      "text/plain": [
       "(18308, 9)"
      ]
     },
     "execution_count": 29,
     "metadata": {},
     "output_type": "execute_result"
    }
   ],
   "source": [
    "# remove zero rows\n",
    "\n",
    "compound_df = compound_df[compound_df['pubchem_id'] != '']\n",
    "compound_df.shape"
   ]
  },
  {
   "cell_type": "code",
   "execution_count": 32,
   "metadata": {},
   "outputs": [],
   "source": [
    "# write to csv file\n",
    "\n",
    "compound_df.to_csv('../datasets/KEGG_compounds_no_SMILES.csv')"
   ]
  },
  {
   "cell_type": "code",
   "execution_count": 31,
   "metadata": {},
   "outputs": [
    {
     "name": "stdout",
     "output_type": "stream",
     "text": [
      "KEGG_compound.csv\r\n",
      "KEGG_compound_db_entries.csv\r\n",
      "KEGG_compound_db_entries.gz\r\n",
      "KEGG_enzymes_all_data.gz\r\n",
      "KEGG_reaction_db_entries.tar.gz\r\n",
      "cleaned_promiscous_enzyme_df.csv\r\n",
      "cofactor_list.csv\r\n",
      "df_cleaned_kegg_with_smiles.csv\r\n",
      "playground_df_cleaned_kegg_with_smiles.csv\r\n",
      "promiscuous_cleaned_KEGGtoPubChem.csv\r\n",
      "promiscuous_enzyme.csv\r\n",
      "promiscuous_enzyme_list.xlsx\r\n",
      "pubchem_ids_promiscuous_enzyme_products.csv\r\n",
      "substrate_product_combined_promiscuous.csv\r\n",
      "vectorized_enzyme.csv\r\n"
     ]
    }
   ],
   "source": [
    "!ls ../datasets/"
   ]
  },
  {
   "cell_type": "code",
   "execution_count": null,
   "metadata": {},
   "outputs": [],
   "source": []
  }
 ],
 "metadata": {
  "kernelspec": {
   "display_name": "Python 3",
   "language": "python",
   "name": "python3"
  },
  "language_info": {
   "codemirror_mode": {
    "name": "ipython",
    "version": 3
   },
   "file_extension": ".py",
   "mimetype": "text/x-python",
   "name": "python",
   "nbconvert_exporter": "python",
   "pygments_lexer": "ipython3",
   "version": "3.7.1"
  }
 },
 "nbformat": 4,
 "nbformat_minor": 2
}
